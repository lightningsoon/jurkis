{
 "cells": [
  {
   "cell_type": "code",
   "execution_count": null,
   "metadata": {
    "collapsed": true
   },
   "outputs": [
    {
     "name": "stderr",
     "output_type": "stream",
     "text": [
      "/Users/huanghao/anaconda3/lib/python3.6/site-packages/h5py/__init__.py:36: FutureWarning: Conversion of the second argument of issubdtype from `float` to `np.floating` is deprecated. In future, it will be treated as `np.float64 == np.dtype(float).type`.\n  from ._conv import register_converters as _register_converters\n"
     ]
    }
   ],
   "source": [
    "# coding: utf-8\n",
    "import numpy as np\n",
    "import os\n",
    "import tensorflow as tf\n",
    "if tf.__version__ < '1.6.0':\n",
    "    raise ImportError('Please upgrade your tensorflow installation to v1.4.* or later!')\n",
    "import cv2\n",
    "from utils import label_map_util\n",
    "from utils import visualize as vis_util\n",
    "import time\n"
   ]
  },
  {
   "cell_type": "code",
   "execution_count": 2,
   "metadata": {},
   "outputs": [
    {
     "name": "stdout",
     "output_type": "stream",
     "text": [
      "0.004197835922241211\n"
     ]
    },
    {
     "name": "stdout",
     "output_type": "stream",
     "text": [
      "1.7271521091461182\n"
     ]
    }
   ],
   "source": [
    "PATH_TO_CKPT = '/Users/huanghao/PycharmProjects/Jurvis/Program' \\\n",
    "               '/Detection/model/' \\\n",
    "               'my_frozen_inference_graph.pb'\n",
    "PATH_TO_LABELS = '/Users/huanghao/PycharmProjects/Jurvis/Program' \\\n",
    "                 '/Detection/model/label_map.pbtxt'\n",
    "NUM_CLASSES = 1\n",
    "T0=time.time()\n",
    "# ## 载入标签图\n",
    "label_map = label_map_util.load_labelmap(PATH_TO_LABELS)\n",
    "categories = label_map_util.convert_label_map_to_categories(label_map, max_num_classes=NUM_CLASSES,\n",
    "                                                            use_display_name=True)\n",
    "category_index = label_map_util.create_category_index(categories)\n",
    "T1=time.time()\n",
    "print(T1-T0)\n",
    "# ## 载入模型\n",
    "detection_graph = tf.Graph()\n",
    "with detection_graph.as_default():\n",
    "    od_graph_def = tf.GraphDef()\n",
    "    with tf.gfile.GFile(PATH_TO_CKPT, 'rb') as fid:\n",
    "        serialized_graph = fid.read()\n",
    "        od_graph_def.ParseFromString(serialized_graph)\n",
    "        tf.import_graph_def(od_graph_def, name='')\n",
    "T2=time.time()\n",
    "print(T2-T1)"
   ]
  },
  {
   "cell_type": "code",
   "execution_count": 3,
   "metadata": {},
   "outputs": [],
   "source": [
    "def load_image_into_numpy_array(image):\n",
    "    (im_width, im_height) = image.size\n",
    "    return np.array(image.getdata()).reshape(\n",
    "        (im_height, im_width, 3)).astype(np.uint8)"
   ]
  },
  {
   "cell_type": "code",
   "execution_count": 4,
   "metadata": {},
   "outputs": [],
   "source": [
    "def inference(image):\n",
    "    global sess, tensor_dict\n",
    "    # The following processing is only for single image\n",
    "    image_tensor = tf.get_default_graph().get_tensor_by_name('image_tensor:0')\n",
    "\n",
    "    # Run inference\n",
    "    output_dict = sess.run(tensor_dict,\n",
    "                           feed_dict={image_tensor: np.expand_dims(image,0)})\n",
    "\n",
    "    # all outputs are float32 numpy arrays, so convert types as appropriate\n",
    "    output_dict['num_detections'] = int(output_dict['num_detections'][0])\n",
    "    output_dict['detection_classes'] = output_dict[\n",
    "        'detection_classes'][0].astype(np.uint8)\n",
    "    output_dict['detection_boxes'] = output_dict['detection_boxes'][0]\n",
    "    output_dict['detection_scores'] = output_dict['detection_scores'][0]\n",
    "    return output_dict"
   ]
  },
  {
   "cell_type": "code",
   "execution_count": 5,
   "metadata": {},
   "outputs": [
    {
     "name": "stdout",
     "output_type": "stream",
     "text": [
      "{'num_detections': 30, 'detection_boxes': array([[0.06810322, 0.06459397, 0.9378766 , 0.930132  ],\n       [0.36884585, 0.        , 1.        , 0.6609993 ],\n       [0.        , 0.        , 0.5324628 , 0.7708375 ],\n       [0.        , 0.        , 0.7707459 , 0.53798807],\n       [0.        , 0.25046092, 0.53921235, 1.        ],\n       [0.        , 0.45117036, 0.7653972 , 1.        ],\n       [0.45882607, 0.24281973, 1.        , 1.        ],\n       [0.1556179 , 0.01176775, 1.        , 0.502798  ],\n       [0.24476507, 0.45867077, 1.        , 1.        ],\n       [0.        , 0.22134778, 1.        , 0.7735058 ],\n       [0.23692423, 0.        , 0.77012235, 1.        ],\n       [0.33975735, 0.        , 1.        , 0.36327255],\n       [0.64363647, 0.3600349 , 1.        , 1.        ],\n       [0.35590753, 0.6486938 , 1.        , 1.        ],\n       [0.        , 0.        , 0.6389767 , 0.36689177],\n       [0.30188066, 0.3475437 , 0.6951807 , 1.        ],\n       [0.5882938 , 0.12118044, 1.        , 0.90315115],\n       [0.6379329 , 0.        , 1.        , 0.68307364],\n       [0.32782072, 0.32214373, 1.        , 0.69744605],\n       [0.        , 0.6543503 , 0.6292422 , 1.        ],\n       [0.        , 0.37151766, 0.35721147, 1.        ],\n       [0.        , 0.        , 0.3545186 , 0.64634067],\n       [0.5248749 , 0.5273962 , 1.        , 1.        ],\n       [0.30452716, 0.        , 0.6987457 , 0.66701   ],\n       [0.        , 0.3247854 , 0.6428194 , 0.69419783],\n       [0.        , 0.1448125 , 0.39500216, 0.89394486],\n       [0.        , 0.        , 0.38649213, 0.3542554 ],\n       [0.11928573, 0.6098164 , 0.87132406, 1.        ],\n       [0.16746941, 0.        , 0.7834892 , 0.3568781 ],\n       [0.19341055, 0.20227   , 0.81247497, 0.8216264 ]], dtype=float32), 'detection_scores': array([0.17973772, 0.15710424, 0.15489702, 0.14645436, 0.14510296,\n       0.1315827 , 0.12924638, 0.12211815, 0.12158666, 0.10642212,\n       0.10143167, 0.02602291, 0.02514028, 0.02200336, 0.02016586,\n       0.02008103, 0.02007023, 0.01999415, 0.01989948, 0.0198336 ,\n       0.01797025, 0.01725321, 0.01715253, 0.0162902 , 0.01603654,\n       0.01532727, 0.01263973, 0.01232311, 0.01137112, 0.01089858],\n      dtype=float32), 'detection_classes': array([1, 1, 1, 1, 1, 1, 1, 1, 1, 1, 1, 1, 1, 1, 1, 1, 1, 1, 1, 1, 1, 1,\n       1, 1, 1, 1, 1, 1, 1, 1], dtype=uint8)}\n"
     ]
    }
   ],
   "source": [
    "global sess, tensor_dict\n",
    "frame = cv2.imread('/Users/huanghao/PycharmProjects/Jurvis/Program/Detection/datasets/1xxx.png')\n",
    "frame=cv2.resize(frame,(0,0),fx=0.5,fy=0.5)\n",
    "vis_util.constant(frame,category_index)\n",
    "with detection_graph.as_default():\n",
    "    with tf.Session() as sess:\n",
    "        ops = tf.get_default_graph().get_operations()\n",
    "        all_tensor_names = {output.name for op in ops for output in op.outputs}\n",
    "        tensor_dict = {}\n",
    "        for key in [\n",
    "            'num_detections', 'detection_boxes', 'detection_scores',\n",
    "            'detection_classes', 'detection_masks'\n",
    "        ]:\n",
    "            tensor_name = key + ':0'\n",
    "            if tensor_name in all_tensor_names:\n",
    "                tensor_dict[key] = tf.get_default_graph().get_tensor_by_name(\n",
    "                    tensor_name)\n",
    "        # Expand dimensions since the model expects images to have shape: [1, None, None, 3]\n",
    "        # Actual detection.\n",
    "        output_dict = inference(frame)\n",
    "        # Visualization of the results of a detection.\n",
    "        vis_util.attach_box_text_2image(\n",
    "            frame,\n",
    "            output_dict['num_detections'],\n",
    "            output_dict['detection_boxes'],\n",
    "            output_dict['detection_classes'],\n",
    "            output_dict['detection_scores'],\n",
    "        max_boxes_to_draw=3)\n",
    "        print(output_dict)\n",
    "        cv2.imshow('',frame)\n",
    "        flag=cv2.waitKey(0)  \n",
    "        if flag==27:\n",
    "            cv2.destroyAllWindows()\n",
    "        pass"
   ]
  },
  {
   "cell_type": "code",
   "execution_count": null,
   "metadata": {},
   "outputs": [],
   "source": []
  }
 ],
 "metadata": {
  "kernelspec": {
   "display_name": "Python 2",
   "language": "python",
   "name": "python2"
  },
  "language_info": {
   "codemirror_mode": {
    "name": "ipython",
    "version": 2
   },
   "file_extension": ".py",
   "mimetype": "text/x-python",
   "name": "python",
   "nbconvert_exporter": "python",
   "pygments_lexer": "ipython2",
   "version": "2.7.6"
  }
 },
 "nbformat": 4,
 "nbformat_minor": 0
}
