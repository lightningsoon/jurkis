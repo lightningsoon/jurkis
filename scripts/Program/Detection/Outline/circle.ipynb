{
 "cells": [
  {
   "cell_type": "code",
   "execution_count": 4,
   "metadata": {
    "collapsed": true
   },
   "outputs": [],
   "source": [
    "import cv2\n",
    "import numpy as np\n",
    "from matplotlib import pyplot as plt"
   ]
  },
  {
   "cell_type": "code",
   "execution_count": 5,
   "metadata": {
    "collapsed": true
   },
   "outputs": [],
   "source": [
    "%matplotlib inline"
   ]
  },
  {
   "cell_type": "code",
   "execution_count": 6,
   "metadata": {
    "collapsed": true
   },
   "outputs": [],
   "source": [
    "img_dep=cv2.imread('deep.jpg',cv2.G)\n",
    "img_bgr=cv2.imread('bgr.jpg')"
   ]
  },
  {
   "cell_type": "code",
   "execution_count": 9,
   "metadata": {},
   "outputs": [
    {
     "name": "stdout",
     "output_type": "stream",
     "text": [
      "(160, 160, 3) [[[146 146 146]\n",
      "  [142 142 142]\n",
      "  [142 142 142]\n",
      "  ..., \n",
      "  [  0   0   0]\n",
      "  [  0   0   0]\n",
      "  [118 118 118]]\n",
      "\n",
      " [[141 141 141]\n",
      "  [142 142 142]\n",
      "  [146 146 146]\n",
      "  ..., \n",
      "  [  3   3   3]\n",
      "  [118 118 118]\n",
      "  [119 119 119]]\n",
      "\n",
      " [[142 142 142]\n",
      "  [147 147 147]\n",
      "  [144 144 144]\n",
      "  ..., \n",
      "  [116 116 116]\n",
      "  [116 116 116]\n",
      "  [116 116 116]]\n",
      "\n",
      " ..., \n",
      " [[ 60  60  60]\n",
      "  [ 60  60  60]\n",
      "  [ 60  60  60]\n",
      "  ..., \n",
      "  [ 63  63  63]\n",
      "  [ 63  63  63]\n",
      "  [ 63  63  63]]\n",
      "\n",
      " [[ 60  60  60]\n",
      "  [ 60  60  60]\n",
      "  [ 60  60  60]\n",
      "  ..., \n",
      "  [ 62  62  62]\n",
      "  [ 62  62  62]\n",
      "  [ 62  62  62]]\n",
      "\n",
      " [[ 60  60  60]\n",
      "  [ 60  60  60]\n",
      "  [ 60  60  60]\n",
      "  ..., \n",
      "  [ 61  61  61]\n",
      "  [ 61  61  61]\n",
      "  [ 61  61  61]]]\n"
     ]
    }
   ],
   "source": [
    "print(img_dep.shape,img_dep)"
   ]
  }
 ],
 "metadata": {
  "kernelspec": {
   "display_name": "Python 3",
   "language": "python",
   "name": "python3"
  },
  "language_info": {
   "codemirror_mode": {
    "name": "ipython",
    "version": 3
   },
   "file_extension": ".py",
   "mimetype": "text/x-python",
   "name": "python",
   "nbconvert_exporter": "python",
   "pygments_lexer": "ipython3",
   "version": "3.6.3"
  }
 },
 "nbformat": 4,
 "nbformat_minor": 2
}
